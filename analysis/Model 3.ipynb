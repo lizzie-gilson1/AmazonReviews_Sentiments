{
 "cells": [
  {
   "cell_type": "code",
   "execution_count": 71,
   "id": "ad5172ae-42c9-451c-843a-110dd43dd7a7",
   "metadata": {},
   "outputs": [],
   "source": [
    "import pandas as pd\n",
    "import matplotlib.pyplot as plt\n",
    "import seaborn as sns\n",
    "import numpy as np\n",
    "from sklearn import linear_model as lm\n",
    "from sklearn.linear_model import LinearRegression"
   ]
  },
  {
   "cell_type": "code",
   "execution_count": null,
   "id": "14f6ed6a-82e7-44f9-b97a-e227742d54a3",
   "metadata": {},
   "outputs": [],
   "source": []
  },
  {
   "cell_type": "markdown",
   "id": "f68b0b86-e8c0-453f-9588-bd513cdcc26f",
   "metadata": {},
   "source": [
    "# Load the dataset for the model using all the 7 categories of products"
   ]
  },
  {
   "cell_type": "markdown",
   "id": "1319fe14-76dd-424b-b7e7-09468001f3f9",
   "metadata": {},
   "source": [
    "<font size = 4> The size of the dataset is too big to be loaded all in once, so each file .json must be saved in another directory after being modified (the directory and the files are identified by the arbitrary number '112723'). We apply VADER score sentiment analysis on the text reviews and data cleaning. <font>"
   ]
  },
  {
   "cell_type": "code",
   "execution_count": 105,
   "id": "40196c83-85a2-4ed9-926c-2a502925d9af",
   "metadata": {},
   "outputs": [
    {
     "name": "stdout",
     "output_type": "stream",
     "text": [
      "$:\t-1.5\t0.80623\t[-1, -1, -1, -1, -3, -1, -3, -1, -2, -1]\n",
      "%)\t-0.4\t1.0198\t[-1, 0, -1, 0, 0, -2, -1, 2, -1, 0]\n",
      "%-)\t-1.5\t1.43178\t[-2, 0, -2, -2, -1, 2, -2, -3, -2, -3]\n",
      "&-:\t-0.4\t1.42829\t[-3, -1, 0, 0, -1, -1, -1, 2, -1, 2]\n",
      "&:\t-0.7\t0.64031\t[0, -1, -1, -1, 1, -1, -1, -1, -1, -1]\n",
      "( '}{' )\t1.6\t0.66332\t[1, 2, 2, 1, 1, 2, 2, 1, 3, 1]\n",
      "(%\t-0.9\t0.9434\t[0, 0, 1, -1, -1, -1, -2, -2, -1, -2]\n",
      "('-:\t2.2\t1.16619\t[4, 1, 4, 3, 1, 2, 3, 1, 2, 1]\n",
      "(':\t2.3\t0.9\t[1, 3, 3, 2, 2, 4, 2, 3, 1, 2]\n",
      "((-:\t2.1\t0.53852\t[2, 2, 2, 1, 2, 3, 2, 2, 3, 2]\n",
      "\n"
     ]
    },
    {
     "data": {
      "text/html": [
       "<div>\n",
       "<style scoped>\n",
       "    .dataframe tbody tr th:only-of-type {\n",
       "        vertical-align: middle;\n",
       "    }\n",
       "\n",
       "    .dataframe tbody tr th {\n",
       "        vertical-align: top;\n",
       "    }\n",
       "\n",
       "    .dataframe thead th {\n",
       "        text-align: right;\n",
       "    }\n",
       "</style>\n",
       "<table border=\"1\" class=\"dataframe\">\n",
       "  <thead>\n",
       "    <tr style=\"text-align: right;\">\n",
       "      <th></th>\n",
       "      <th>polarity</th>\n",
       "    </tr>\n",
       "    <tr>\n",
       "      <th>token</th>\n",
       "      <th></th>\n",
       "    </tr>\n",
       "  </thead>\n",
       "  <tbody>\n",
       "    <tr>\n",
       "      <th>$:</th>\n",
       "      <td>-1.5</td>\n",
       "    </tr>\n",
       "    <tr>\n",
       "      <th>%)</th>\n",
       "      <td>-0.4</td>\n",
       "    </tr>\n",
       "    <tr>\n",
       "      <th>%-)</th>\n",
       "      <td>-1.5</td>\n",
       "    </tr>\n",
       "    <tr>\n",
       "      <th>&amp;-:</th>\n",
       "      <td>-0.4</td>\n",
       "    </tr>\n",
       "    <tr>\n",
       "      <th>&amp;:</th>\n",
       "      <td>-0.7</td>\n",
       "    </tr>\n",
       "  </tbody>\n",
       "</table>\n",
       "</div>"
      ],
      "text/plain": [
       "       polarity\n",
       "token          \n",
       "$:         -1.5\n",
       "%)         -0.4\n",
       "%-)        -1.5\n",
       "&-:        -0.4\n",
       "&:         -0.7"
      ]
     },
     "execution_count": 105,
     "metadata": {},
     "output_type": "execute_result"
    }
   ],
   "source": [
    "def sanitize_text_reviews(df):\n",
    "    df['clean_text_reviews'] = df['reviewText'].str.lower().str.replace(r\"[^[a-zA-Z0-9_\\t\\n\\r\\s]\", r\" \", regex=True)\n",
    "    return df\n",
    "\n",
    "def sanitize_text_summary(df):\n",
    "    df['clean_text_summary'] = df['summary'].str.lower().str.replace(r\"[^[a-zA-Z0-9_\\t\\n\\r\\s]\", r\" \", regex=True)\n",
    "    return df\n",
    "\n",
    "def to_tidy_format_reviews(df):\n",
    "    tidy_df_reviews = (\n",
    "        df[\"clean_text_reviews\"]\n",
    "        .str.split()\n",
    "        .explode()\n",
    "        .to_frame()\n",
    "        .rename(columns={\"clean_text_reviews\": \"word\"})\n",
    "    )\n",
    "    return tidy_df_reviews\n",
    "\n",
    "def to_tidy_format_summary(df):\n",
    "    tidy_df_summary = (\n",
    "        df[\"clean_text_summary\"]\n",
    "        .str.split()\n",
    "        .explode()\n",
    "        .to_frame()\n",
    "        .rename(columns={\"clean_text_summary\": \"word\"})\n",
    "    )\n",
    "    return tidy_df_summary\n",
    "\n",
    "def add_polarity_reviews(df, tidy_df_reviews):\n",
    "    df[\"polarity_reviews\"] = (\n",
    "        tidy_df_reviews\n",
    "        .merge(sent, how='left', left_on='word', right_index=True)\n",
    "        .reset_index()\n",
    "        .loc[:, ['index', 'polarity']]\n",
    "        .fillna(0)\n",
    "        .groupby('index')\n",
    "        .sum()\n",
    "    )\n",
    "    return df\n",
    "\n",
    "def add_polarity_summary(df, tidy_df_summary):\n",
    "    df[\"polarity_summary\"] = (\n",
    "        tidy_df_summary\n",
    "        .merge(sent, how='left', left_on='word', right_index=True)\n",
    "        .reset_index()\n",
    "        .loc[:, ['index', 'polarity']]\n",
    "        .fillna(0)\n",
    "        .groupby('index')\n",
    "        .sum()\n",
    "    )\n",
    "    return df\n",
    "\n",
    "print(''.join(open(\"../data/vader_lexicon.txt\").readlines()[:10]))\n",
    "sent = pd.read_csv(\"../data/vader_lexicon.txt\", sep='\\t', header = None).loc[:, [0,1]].rename(columns={0: \"token\", 1: \"polarity\"}).set_index('token')\n",
    "sent.head()"
   ]
  },
  {
   "cell_type": "code",
   "execution_count": 106,
   "id": "4a9f474c-544a-413a-a0ed-02f0dfeb41b4",
   "metadata": {},
   "outputs": [],
   "source": [
    "df = pd.read_json(\"../data/Original/Patio_Lawn_and_Garden_5.json\", lines=True, encoding='latin-1')\n",
    "df['year'] = pd.to_datetime(df['unixReviewTime'], unit='s').dt.year\n",
    "df['month'] = pd.to_datetime(df['unixReviewTime'], unit='s').dt.month\n",
    "df['day'] = pd.to_datetime(df['unixReviewTime'], unit='s').dt.day\n",
    "df = sanitize_text_reviews(df)\n",
    "df = sanitize_text_summary(df)\n",
    "tidy_df_reviews = to_tidy_format_reviews(df)\n",
    "tidy_df_summary = to_tidy_format_summary(df)\n",
    "df = add_polarity_reviews(df, tidy_df_reviews)\n",
    "df = add_polarity_summary(df, tidy_df_summary)\n",
    "df = df[['year', 'month', 'day', 'asin' , 'overall', 'verified', 'reviewerID', 'reviewerName', 'reviewText', 'summary','vote', 'polarity_reviews', 'polarity_summary']]\n",
    "df['length of review'] = df['reviewText'].str.len()\n",
    "df.to_json(\"../data/112723/Lawn_112723.json\")"
   ]
  },
  {
   "cell_type": "code",
   "execution_count": 107,
   "id": "c22598d1-9f22-4552-9181-8237e8bc8405",
   "metadata": {},
   "outputs": [],
   "source": [
    "df = pd.read_json(\"../data/Original/Sports_and_Outdoors_5.json\", lines=True, encoding='latin-1')\n",
    "df['year'] = pd.to_datetime(df['unixReviewTime'], unit='s').dt.year\n",
    "df['month'] = pd.to_datetime(df['unixReviewTime'], unit='s').dt.month\n",
    "df['day'] = pd.to_datetime(df['unixReviewTime'], unit='s').dt.day\n",
    "df = sanitize_text_reviews(df)\n",
    "df = sanitize_text_summary(df)\n",
    "tidy_df_reviews = to_tidy_format_reviews(df)\n",
    "tidy_df_summary = to_tidy_format_summary(df)\n",
    "df = add_polarity_reviews(df, tidy_df_reviews)\n",
    "df = add_polarity_summary(df, tidy_df_summary)\n",
    "df = df[['year', 'month', 'day', 'asin', 'overall', 'verified', 'reviewerID', 'reviewerName', 'reviewText', 'summary','vote', 'polarity_reviews', 'polarity_summary']]\n",
    "df['length of review'] = df['reviewText'].str.len()\n",
    "df.to_json(\"../data/112723/Sports_112723.json\")"
   ]
  },
  {
   "cell_type": "code",
   "execution_count": 108,
   "id": "ffa616dc-41d7-409d-9a86-bf79007a44e6",
   "metadata": {},
   "outputs": [],
   "source": [
    "df = pd.read_json(\"../data/Original/Tools_and_Home_Improvement_5.json\", lines=True, encoding='latin-1')\n",
    "df['year'] = pd.to_datetime(df['unixReviewTime'], unit='s').dt.year\n",
    "df['month'] = pd.to_datetime(df['unixReviewTime'], unit='s').dt.month\n",
    "df['day'] = pd.to_datetime(df['unixReviewTime'], unit='s').dt.day\n",
    "df = sanitize_text_reviews(df)\n",
    "df = sanitize_text_summary(df)\n",
    "tidy_df_reviews = to_tidy_format_reviews(df)\n",
    "tidy_df_summary = to_tidy_format_summary(df)\n",
    "df = add_polarity_reviews(df, tidy_df_reviews)\n",
    "df = add_polarity_summary(df, tidy_df_summary)\n",
    "df = df[['year', 'month', 'day','asin', 'overall', 'verified', 'reviewerID', 'reviewerName', 'reviewText', 'summary','vote', 'polarity_reviews', 'polarity_summary']]\n",
    "df['length of review'] = df['reviewText'].str.len()\n",
    "df.to_json(\"../data/112723/Tools_112723.json\")"
   ]
  },
  {
   "cell_type": "code",
   "execution_count": 109,
   "id": "e24641eb-625a-4eb3-a4be-1ae29d010e0a",
   "metadata": {},
   "outputs": [],
   "source": [
    "df = pd.read_json(\"../data/Original/Toys_and_Games_5.json\", lines=True, encoding='latin-1')\n",
    "df['year'] = pd.to_datetime(df['unixReviewTime'], unit='s').dt.year\n",
    "df['month'] = pd.to_datetime(df['unixReviewTime'], unit='s').dt.month\n",
    "df['day'] = pd.to_datetime(df['unixReviewTime'], unit='s').dt.day\n",
    "df = sanitize_text_reviews(df)\n",
    "df = sanitize_text_summary(df)\n",
    "tidy_df_reviews = to_tidy_format_reviews(df)\n",
    "tidy_df_summary = to_tidy_format_summary(df)\n",
    "df = add_polarity_reviews(df, tidy_df_reviews)\n",
    "df = add_polarity_summary(df, tidy_df_summary)\n",
    "df = df[['year', 'month', 'day','asin', 'overall', 'verified', 'reviewerID', 'reviewerName', 'reviewText', 'summary','vote', 'polarity_reviews', 'polarity_summary']]\n",
    "df['length of review'] = df['reviewText'].str.len()\n",
    "df.to_json(\"../data/112723/Toys_112723.json\")"
   ]
  },
  {
   "cell_type": "code",
   "execution_count": 110,
   "id": "7e7f00fc-dfa7-4d4e-9c89-7165fa6c133a",
   "metadata": {},
   "outputs": [],
   "source": [
    "df = pd.read_json(\"../data/Original/Video_Games_5.json\", lines=True, encoding='latin-1')\n",
    "df['year'] = pd.to_datetime(df['unixReviewTime'], unit='s').dt.year\n",
    "df['month'] = pd.to_datetime(df['unixReviewTime'], unit='s').dt.month\n",
    "df['day'] = pd.to_datetime(df['unixReviewTime'], unit='s').dt.day\n",
    "df = sanitize_text_reviews(df)\n",
    "df = sanitize_text_summary(df)\n",
    "tidy_df_reviews = to_tidy_format_reviews(df)\n",
    "tidy_df_summary = to_tidy_format_summary(df)\n",
    "df = add_polarity_reviews(df, tidy_df_reviews)\n",
    "df = add_polarity_summary(df, tidy_df_summary)\n",
    "df = df[['year', 'month', 'day','asin',  'overall', 'verified', 'reviewerID', 'reviewerName', 'reviewText', 'summary','vote', 'polarity_reviews', 'polarity_summary']]\n",
    "df['length of review'] = df['reviewText'].str.len()\n",
    "df.to_json(\"../data/112723/VideoGames_112723.json\")"
   ]
  },
  {
   "cell_type": "code",
   "execution_count": 111,
   "id": "04f048fb-5705-4f04-a9dc-035b9f65eb08",
   "metadata": {},
   "outputs": [],
   "source": [
    "df = pd.read_json(\"../data/Original/Movies_and_TV_5.json\", lines=True, encoding='latin-1')\n",
    "df['year'] = pd.to_datetime(df['unixReviewTime'], unit='s').dt.year\n",
    "df['month'] = pd.to_datetime(df['unixReviewTime'], unit='s').dt.month\n",
    "df['day'] = pd.to_datetime(df['unixReviewTime'], unit='s').dt.day\n",
    "df = sanitize_text_reviews(df)\n",
    "df = sanitize_text_summary(df)\n",
    "tidy_df_reviews = to_tidy_format_reviews(df)\n",
    "tidy_df_summary = to_tidy_format_summary(df)\n",
    "df = add_polarity_reviews(df, tidy_df_reviews)\n",
    "df = add_polarity_summary(df, tidy_df_summary)\n",
    "df = df[['year', 'month', 'day', 'asin', 'overall', 'verified', 'reviewerID', 'reviewerName', 'reviewText', 'summary','vote', 'polarity_reviews', 'polarity_summary']]\n",
    "df['length of review'] = df['reviewText'].str.len()\n",
    "df.to_json(\"../data/112723/Movies_112723.json\")"
   ]
  },
  {
   "cell_type": "code",
   "execution_count": 112,
   "id": "5d8e7e2b-7b52-4e70-8244-6781053d65fd",
   "metadata": {},
   "outputs": [],
   "source": [
    "df = pd.read_json(\"../data/Original/Kindle_Store_5.json\", lines=True, encoding='latin-1')\n",
    "df['year'] = pd.to_datetime(df['unixReviewTime'], unit='s').dt.year\n",
    "df['month'] = pd.to_datetime(df['unixReviewTime'], unit='s').dt.month\n",
    "df['day'] = pd.to_datetime(df['unixReviewTime'], unit='s').dt.day\n",
    "df = sanitize_text_reviews(df)\n",
    "df = sanitize_text_summary(df)\n",
    "tidy_df_reviews = to_tidy_format_reviews(df)\n",
    "tidy_df_summary = to_tidy_format_summary(df)\n",
    "df = add_polarity_reviews(df, tidy_df_reviews)\n",
    "df = add_polarity_summary(df, tidy_df_summary)\n",
    "df = df[['year', 'month', 'day', 'asin', 'overall', 'verified', 'reviewerID', 'reviewerName', 'reviewText', 'summary','vote', 'polarity_reviews', 'polarity_summary']]\n",
    "df['length of review'] = df['reviewText'].str.len()\n",
    "df.to_json(\"../data/112723/Kindle_112723.json\")"
   ]
  },
  {
   "cell_type": "code",
   "execution_count": null,
   "id": "cb92428f-2bfc-40af-a4eb-8daa82e0af41",
   "metadata": {},
   "outputs": [],
   "source": []
  },
  {
   "cell_type": "code",
   "execution_count": 113,
   "id": "79325f95-7745-4a57-ace3-679a81bf6585",
   "metadata": {},
   "outputs": [],
   "source": [
    "df = pd.read_json(\"../data/112723/Lawn_112723.json\")\n",
    "df2 = pd.read_json(\"../data/112723/Sports_112723.json\")\n",
    "df3 = pd.read_json(\"../data/112723/Tools_112723.json\")\n",
    "df4 = pd.read_json(\"../data/112723/Toys_112723.json\")\n",
    "df5 = pd.read_json(\"../data/112723/VideoGames_112723.json\")\n",
    "df6 = pd.read_json(\"../data/112723/Movies_112723.json\")\n",
    "df7 = pd.read_json(\"../data/112723/Kindle_112723.json\")"
   ]
  },
  {
   "cell_type": "code",
   "execution_count": null,
   "id": "96003ace-6114-494e-8876-64c4eec4ef8a",
   "metadata": {},
   "outputs": [],
   "source": []
  },
  {
   "cell_type": "code",
   "execution_count": null,
   "id": "80debdec-8597-4aaa-b335-01d595e0a52f",
   "metadata": {},
   "outputs": [],
   "source": []
  },
  {
   "cell_type": "code",
   "execution_count": 128,
   "id": "84c30079-7dfd-4333-afbc-c263c7ae4f95",
   "metadata": {},
   "outputs": [
    {
     "data": {
      "text/html": [
       "<div>\n",
       "<style scoped>\n",
       "    .dataframe tbody tr th:only-of-type {\n",
       "        vertical-align: middle;\n",
       "    }\n",
       "\n",
       "    .dataframe tbody tr th {\n",
       "        vertical-align: top;\n",
       "    }\n",
       "\n",
       "    .dataframe thead th {\n",
       "        text-align: right;\n",
       "    }\n",
       "</style>\n",
       "<table border=\"1\" class=\"dataframe\">\n",
       "  <thead>\n",
       "    <tr style=\"text-align: right;\">\n",
       "      <th></th>\n",
       "      <th>year</th>\n",
       "      <th>month</th>\n",
       "      <th>day</th>\n",
       "      <th>asin</th>\n",
       "      <th>overall</th>\n",
       "      <th>verified</th>\n",
       "      <th>reviewerID</th>\n",
       "      <th>reviewerName</th>\n",
       "      <th>reviewText</th>\n",
       "      <th>summary</th>\n",
       "      <th>vote</th>\n",
       "      <th>polarity_reviews</th>\n",
       "      <th>polarity_summary</th>\n",
       "      <th>length of review</th>\n",
       "    </tr>\n",
       "  </thead>\n",
       "  <tbody>\n",
       "    <tr>\n",
       "      <th>0</th>\n",
       "      <td>2011</td>\n",
       "      <td>12</td>\n",
       "      <td>11</td>\n",
       "      <td>9539723809</td>\n",
       "      <td>5</td>\n",
       "      <td>True</td>\n",
       "      <td>AUVPE2KEXBJVT</td>\n",
       "      <td>T. E. Kainz</td>\n",
       "      <td>I don't spend a lot on my flags because they r...</td>\n",
       "      <td>Good quality for the price</td>\n",
       "      <td>2</td>\n",
       "      <td>5.1</td>\n",
       "      <td>1.9</td>\n",
       "      <td>576.0</td>\n",
       "    </tr>\n",
       "    <tr>\n",
       "      <th>1</th>\n",
       "      <td>2011</td>\n",
       "      <td>7</td>\n",
       "      <td>30</td>\n",
       "      <td>9539723809</td>\n",
       "      <td>5</td>\n",
       "      <td>True</td>\n",
       "      <td>A2F6GES1MBOFXS</td>\n",
       "      <td>BluesJamJim</td>\n",
       "      <td>Super fast processing and shipping, if you are...</td>\n",
       "      <td>3'x5' Colorado State flag</td>\n",
       "      <td>None</td>\n",
       "      <td>6.7</td>\n",
       "      <td>0.0</td>\n",
       "      <td>139.0</td>\n",
       "    </tr>\n",
       "  </tbody>\n",
       "</table>\n",
       "</div>"
      ],
      "text/plain": [
       "   year  month  day        asin  overall  verified      reviewerID  \\\n",
       "0  2011     12   11  9539723809        5      True   AUVPE2KEXBJVT   \n",
       "1  2011      7   30  9539723809        5      True  A2F6GES1MBOFXS   \n",
       "\n",
       "  reviewerName                                         reviewText  \\\n",
       "0  T. E. Kainz  I don't spend a lot on my flags because they r...   \n",
       "1  BluesJamJim  Super fast processing and shipping, if you are...   \n",
       "\n",
       "                      summary  vote  polarity_reviews  polarity_summary  \\\n",
       "0  Good quality for the price     2               5.1               1.9   \n",
       "1   3'x5' Colorado State flag  None               6.7               0.0   \n",
       "\n",
       "   length of review  \n",
       "0             576.0  \n",
       "1             139.0  "
      ]
     },
     "execution_count": 128,
     "metadata": {},
     "output_type": "execute_result"
    }
   ],
   "source": [
    "df.head(2)"
   ]
  },
  {
   "cell_type": "code",
   "execution_count": 129,
   "id": "77542637-d508-447f-8a6d-7ce435745e6e",
   "metadata": {},
   "outputs": [
    {
     "data": {
      "text/plain": [
       "Index(['year', 'month', 'day', 'asin', 'overall', 'verified', 'reviewerID',\n",
       "       'reviewerName', 'reviewText', 'summary', 'vote', 'polarity_reviews',\n",
       "       'polarity_summary', 'length of review'],\n",
       "      dtype='object')"
      ]
     },
     "execution_count": 129,
     "metadata": {},
     "output_type": "execute_result"
    }
   ],
   "source": [
    "df.columns"
   ]
  },
  {
   "cell_type": "code",
   "execution_count": null,
   "id": "0ec928b7-f816-4948-99e7-fb188cf284c8",
   "metadata": {},
   "outputs": [],
   "source": []
  },
  {
   "cell_type": "code",
   "execution_count": null,
   "id": "d2a18055-a1c4-4a86-a7a0-36a5220cb342",
   "metadata": {},
   "outputs": [],
   "source": []
  },
  {
   "cell_type": "code",
   "execution_count": null,
   "id": "0873c486-5802-4fae-9797-7395d244d84a",
   "metadata": {},
   "outputs": [],
   "source": []
  },
  {
   "cell_type": "markdown",
   "id": "422a9613-26a9-4c6b-b06c-f34167ad3e53",
   "metadata": {},
   "source": [
    "# Model 3 with OHE"
   ]
  },
  {
   "cell_type": "code",
   "execution_count": 130,
   "id": "0b275eb2-5af3-443d-8c60-9bc82349dba8",
   "metadata": {},
   "outputs": [],
   "source": [
    "# ohe features of interest\n",
    "# len review\n",
    "# try all categories\n",
    "# merge df together adding column 'category'\n",
    "# OHE 'category'\n",
    "# model with this new df\n",
    "# regularization"
   ]
  },
  {
   "cell_type": "code",
   "execution_count": 131,
   "id": "fa059b59-3b76-4fe1-bb88-71eb64aa8162",
   "metadata": {},
   "outputs": [],
   "source": [
    "df['category'] = 'Lawn'\n",
    "df2['category'] = 'Sports'\n",
    "df3['category'] = 'Tools'\n",
    "df4['category'] = 'Toys'\n",
    "df5['category'] = 'VideoGames'\n",
    "df6['category'] = 'Movies'\n",
    "df7['category'] = 'Kindle'\n",
    "merged_df = pd.concat([df, df2, df3, df4, df5, df6, df7], ignore_index=True)"
   ]
  },
  {
   "cell_type": "code",
   "execution_count": 132,
   "id": "3e4b544e-41c8-4d20-b289-0b09ae553a22",
   "metadata": {},
   "outputs": [],
   "source": [
    "def train_val_split(data):\n",
    "    \"\"\" \n",
    "    Takes in a DataFrame `data` and randomly splits it into two smaller DataFrames \n",
    "    named `train` and `validation` with 80% and 20% of the data, respectively. \n",
    "    \"\"\"\n",
    "    \n",
    "    data_len = data.shape[0]\n",
    "    shuffled_indices = np.random.permutation(data_len)\n",
    "    test_indexes = shuffled_indices[0:int(len(shuffled_indices)*0.8)]\n",
    "    validation_indexes = shuffled_indices[int(len(shuffled_indices)*0.8):]\n",
    "    train = data.iloc[test_indexes]\n",
    "    validation = data.iloc[validation_indexes]\n",
    "   \n",
    "    return train, validation"
   ]
  },
  {
   "cell_type": "code",
   "execution_count": 133,
   "id": "834cdff6-8a8b-4576-a881-b83cc90f7011",
   "metadata": {},
   "outputs": [
    {
     "data": {
      "text/plain": [
       "Index(['year', 'month', 'day', 'asin', 'overall', 'verified', 'reviewerID',\n",
       "       'reviewerName', 'reviewText', 'summary', 'vote', 'polarity_reviews',\n",
       "       'polarity_summary', 'length of review', 'category'],\n",
       "      dtype='object')"
      ]
     },
     "execution_count": 133,
     "metadata": {},
     "output_type": "execute_result"
    }
   ],
   "source": [
    "merged_df.columns"
   ]
  },
  {
   "cell_type": "code",
   "execution_count": 134,
   "id": "21142505-7bd0-4406-b568-3becc7b2f804",
   "metadata": {},
   "outputs": [],
   "source": [
    "from sklearn import linear_model as lm\n",
    "from sklearn.preprocessing import OneHotEncoder\n",
    "\n",
    "def train_val_split(data):\n",
    "    \"\"\" \n",
    "    Takes in a DataFrame `data` and randomly splits it into two smaller DataFrames \n",
    "    named `train` and `validation` with 80% and 20% of the data, respectively. \n",
    "    \"\"\"\n",
    "    \n",
    "    data_len = data.shape[0]\n",
    "    shuffled_indices = np.random.permutation(data_len)\n",
    "    test_indexes = shuffled_indices[0:int(len(shuffled_indices)*0.8)]\n",
    "    validation_indexes = shuffled_indices[int(len(shuffled_indices)*0.8):]\n",
    "    train = data.iloc[test_indexes]\n",
    "    validation = data.iloc[validation_indexes]\n",
    "   \n",
    "    return train, validation\n",
    "\n",
    "def one_hot_encode(data):\n",
    "    \"\"\"\n",
    "    Return the one-hot encoded DataFrame of our input data.\n",
    "    \n",
    "    Parameters\n",
    "    -----------\n",
    "    data: A DataFrame that may include non-numerical features.\n",
    "    \n",
    "    Returns\n",
    "    -----------\n",
    "    A one-hot encoded DataFrame that only contains numeric features.\n",
    "    \n",
    "    \"\"\"\n",
    "\n",
    "    #cat = ['Roof Material', 'in_expensive_neighborhood', 'Central Air', 'Repair Condition'] # Commented out, but it worked\n",
    "    cat = ['category', 'verified', 'overall']\n",
    "    \n",
    "    oh_enc = OneHotEncoder()\n",
    "    oh_enc.fit(data[cat])\n",
    "    \n",
    "    cat_data = oh_enc.transform(data[cat]).toarray()\n",
    "    \n",
    "    cat_df = pd.DataFrame(data=cat_data, columns=oh_enc.get_feature_names_out(), index=data.index)\n",
    "    \n",
    "    return data.join(cat_df).drop(columns=cat)"
   ]
  },
  {
   "cell_type": "code",
   "execution_count": 135,
   "id": "a7e8fa14-2b6a-4232-b931-04cae4a2df60",
   "metadata": {},
   "outputs": [
    {
     "name": "stderr",
     "output_type": "stream",
     "text": [
      "/tmp/ipykernel_132043/3969962488.py:2: SettingWithCopyWarning: \n",
      "A value is trying to be set on a copy of a slice from a DataFrame.\n",
      "Try using .loc[row_indexer,col_indexer] = value instead\n",
      "\n",
      "See the caveats in the documentation: https://pandas.pydata.org/pandas-docs/stable/user_guide/indexing.html#returning-a-view-versus-a-copy\n",
      "  merged_df_fit['vote'] = merged_df_fit['vote'].str.replace('nan', '0').fillna('0').str.replace(',', '')\n",
      "/tmp/ipykernel_132043/3969962488.py:3: SettingWithCopyWarning: \n",
      "A value is trying to be set on a copy of a slice from a DataFrame.\n",
      "Try using .loc[row_indexer,col_indexer] = value instead\n",
      "\n",
      "See the caveats in the documentation: https://pandas.pydata.org/pandas-docs/stable/user_guide/indexing.html#returning-a-view-versus-a-copy\n",
      "  merged_df_fit['vote'] = merged_df_fit['vote'].astype(str)\n"
     ]
    }
   ],
   "source": [
    "merged_df_fit = merged_df[['year', 'overall', 'verified', 'vote', 'polarity_summary', 'length of review', 'category']]\n",
    "merged_df_fit['vote'] = merged_df_fit['vote'].str.replace('nan', '0').fillna('0').str.replace(',', '')\n",
    "merged_df_fit['vote'] = merged_df_fit['vote'].astype(str)\n",
    "merged_df_fit = merged_df_fit.dropna()\n",
    "X = merged_df[['year', 'overall', 'verified', 'vote', 'polarity_summary', 'length of review', 'category']]\n",
    "Y = merged_df[['polarity_reviews']]"
   ]
  },
  {
   "cell_type": "code",
   "execution_count": 136,
   "id": "6e8ed31b-3b2d-42c6-b27f-84c36d0ed6fd",
   "metadata": {},
   "outputs": [
    {
     "data": {
      "text/plain": [
       "Index(['year', 'polarity_summary', 'length of review', 'category_Kindle',\n",
       "       'category_Movies', 'category_Sports', 'category_Tools', 'category_Toys',\n",
       "       'category_VideoGames', 'verified_False', 'overall_1', 'overall_2',\n",
       "       'overall_3', 'overall_5'],\n",
       "      dtype='object')"
      ]
     },
     "execution_count": 136,
     "metadata": {},
     "output_type": "execute_result"
    }
   ],
   "source": [
    "X_ohe = one_hot_encode(X)\n",
    "X_norm = X_ohe.drop(['category_Lawn', 'verified_True', 'overall_4', 'vote'], axis=1)\n",
    "X_norm.columns"
   ]
  },
  {
   "cell_type": "code",
   "execution_count": 137,
   "id": "cbef2136-3f54-4259-9561-3a26079f01fb",
   "metadata": {},
   "outputs": [],
   "source": [
    "X_norm = X_norm.fillna(0)"
   ]
  },
  {
   "cell_type": "code",
   "execution_count": 138,
   "id": "8e240e5b-8da6-4b3a-ad5e-57df5f5618ba",
   "metadata": {},
   "outputs": [],
   "source": [
    "X_norm['polarity_summary'] = (X_norm['polarity_summary'] - X_norm['polarity_summary'].mean())/np.std(X_norm['polarity_summary'])"
   ]
  },
  {
   "cell_type": "code",
   "execution_count": 139,
   "id": "355e48f4-a788-4ba2-a6b2-7d24382ba4fd",
   "metadata": {},
   "outputs": [],
   "source": [
    "X_norm['length of review'] = (X_norm['length of review'] - X_norm['length of review'].mean())/np.std(X_norm['length of review'])"
   ]
  },
  {
   "cell_type": "code",
   "execution_count": 140,
   "id": "45baa5c0-71f5-4ab5-899d-03dd09c44d3a",
   "metadata": {},
   "outputs": [],
   "source": [
    "X_norm['year'] = (X_norm['year'] - X_norm['year'].mean())/np.std(X_norm['year'])"
   ]
  },
  {
   "cell_type": "code",
   "execution_count": 141,
   "id": "b7434ec0-b517-4cb5-94ca-8abe0dc8aa56",
   "metadata": {},
   "outputs": [
    {
     "data": {
      "text/html": [
       "<div>\n",
       "<style scoped>\n",
       "    .dataframe tbody tr th:only-of-type {\n",
       "        vertical-align: middle;\n",
       "    }\n",
       "\n",
       "    .dataframe tbody tr th {\n",
       "        vertical-align: top;\n",
       "    }\n",
       "\n",
       "    .dataframe thead th {\n",
       "        text-align: right;\n",
       "    }\n",
       "</style>\n",
       "<table border=\"1\" class=\"dataframe\">\n",
       "  <thead>\n",
       "    <tr style=\"text-align: right;\">\n",
       "      <th></th>\n",
       "      <th>year</th>\n",
       "      <th>polarity_summary</th>\n",
       "      <th>length of review</th>\n",
       "      <th>category_Kindle</th>\n",
       "      <th>category_Movies</th>\n",
       "      <th>category_Sports</th>\n",
       "      <th>category_Tools</th>\n",
       "      <th>category_Toys</th>\n",
       "      <th>category_VideoGames</th>\n",
       "      <th>verified_False</th>\n",
       "      <th>overall_1</th>\n",
       "      <th>overall_2</th>\n",
       "      <th>overall_3</th>\n",
       "      <th>overall_5</th>\n",
       "    </tr>\n",
       "  </thead>\n",
       "  <tbody>\n",
       "    <tr>\n",
       "      <th>0</th>\n",
       "      <td>-1.420200</td>\n",
       "      <td>0.324860</td>\n",
       "      <td>0.318028</td>\n",
       "      <td>0.0</td>\n",
       "      <td>0.0</td>\n",
       "      <td>0.0</td>\n",
       "      <td>0.0</td>\n",
       "      <td>0.0</td>\n",
       "      <td>0.0</td>\n",
       "      <td>0.0</td>\n",
       "      <td>0.0</td>\n",
       "      <td>0.0</td>\n",
       "      <td>0.0</td>\n",
       "      <td>1.0</td>\n",
       "    </tr>\n",
       "    <tr>\n",
       "      <th>1</th>\n",
       "      <td>-1.420200</td>\n",
       "      <td>-0.687433</td>\n",
       "      <td>-0.320249</td>\n",
       "      <td>0.0</td>\n",
       "      <td>0.0</td>\n",
       "      <td>0.0</td>\n",
       "      <td>0.0</td>\n",
       "      <td>0.0</td>\n",
       "      <td>0.0</td>\n",
       "      <td>0.0</td>\n",
       "      <td>0.0</td>\n",
       "      <td>0.0</td>\n",
       "      <td>0.0</td>\n",
       "      <td>1.0</td>\n",
       "    </tr>\n",
       "    <tr>\n",
       "      <th>2</th>\n",
       "      <td>0.502868</td>\n",
       "      <td>-0.687433</td>\n",
       "      <td>-0.406424</td>\n",
       "      <td>0.0</td>\n",
       "      <td>0.0</td>\n",
       "      <td>0.0</td>\n",
       "      <td>0.0</td>\n",
       "      <td>0.0</td>\n",
       "      <td>0.0</td>\n",
       "      <td>0.0</td>\n",
       "      <td>0.0</td>\n",
       "      <td>0.0</td>\n",
       "      <td>0.0</td>\n",
       "      <td>1.0</td>\n",
       "    </tr>\n",
       "    <tr>\n",
       "      <th>3</th>\n",
       "      <td>0.118255</td>\n",
       "      <td>-0.687433</td>\n",
       "      <td>-0.466308</td>\n",
       "      <td>0.0</td>\n",
       "      <td>0.0</td>\n",
       "      <td>0.0</td>\n",
       "      <td>0.0</td>\n",
       "      <td>0.0</td>\n",
       "      <td>0.0</td>\n",
       "      <td>0.0</td>\n",
       "      <td>0.0</td>\n",
       "      <td>0.0</td>\n",
       "      <td>0.0</td>\n",
       "      <td>1.0</td>\n",
       "    </tr>\n",
       "    <tr>\n",
       "      <th>4</th>\n",
       "      <td>0.118255</td>\n",
       "      <td>-0.687433</td>\n",
       "      <td>-0.477993</td>\n",
       "      <td>0.0</td>\n",
       "      <td>0.0</td>\n",
       "      <td>0.0</td>\n",
       "      <td>0.0</td>\n",
       "      <td>0.0</td>\n",
       "      <td>0.0</td>\n",
       "      <td>0.0</td>\n",
       "      <td>0.0</td>\n",
       "      <td>0.0</td>\n",
       "      <td>0.0</td>\n",
       "      <td>1.0</td>\n",
       "    </tr>\n",
       "  </tbody>\n",
       "</table>\n",
       "</div>"
      ],
      "text/plain": [
       "       year  polarity_summary  length of review  category_Kindle  \\\n",
       "0 -1.420200          0.324860          0.318028              0.0   \n",
       "1 -1.420200         -0.687433         -0.320249              0.0   \n",
       "2  0.502868         -0.687433         -0.406424              0.0   \n",
       "3  0.118255         -0.687433         -0.466308              0.0   \n",
       "4  0.118255         -0.687433         -0.477993              0.0   \n",
       "\n",
       "   category_Movies  category_Sports  category_Tools  category_Toys  \\\n",
       "0              0.0              0.0             0.0            0.0   \n",
       "1              0.0              0.0             0.0            0.0   \n",
       "2              0.0              0.0             0.0            0.0   \n",
       "3              0.0              0.0             0.0            0.0   \n",
       "4              0.0              0.0             0.0            0.0   \n",
       "\n",
       "   category_VideoGames  verified_False  overall_1  overall_2  overall_3  \\\n",
       "0                  0.0             0.0        0.0        0.0        0.0   \n",
       "1                  0.0             0.0        0.0        0.0        0.0   \n",
       "2                  0.0             0.0        0.0        0.0        0.0   \n",
       "3                  0.0             0.0        0.0        0.0        0.0   \n",
       "4                  0.0             0.0        0.0        0.0        0.0   \n",
       "\n",
       "   overall_5  \n",
       "0        1.0  \n",
       "1        1.0  \n",
       "2        1.0  \n",
       "3        1.0  \n",
       "4        1.0  "
      ]
     },
     "execution_count": 141,
     "metadata": {},
     "output_type": "execute_result"
    }
   ],
   "source": [
    "X_norm.head()"
   ]
  },
  {
   "cell_type": "code",
   "execution_count": 142,
   "id": "2fb96e5f-9137-4341-8224-8798a90c161d",
   "metadata": {},
   "outputs": [
    {
     "data": {
      "text/html": [
       "<div>\n",
       "<style scoped>\n",
       "    .dataframe tbody tr th:only-of-type {\n",
       "        vertical-align: middle;\n",
       "    }\n",
       "\n",
       "    .dataframe tbody tr th {\n",
       "        vertical-align: top;\n",
       "    }\n",
       "\n",
       "    .dataframe thead th {\n",
       "        text-align: right;\n",
       "    }\n",
       "</style>\n",
       "<table border=\"1\" class=\"dataframe\">\n",
       "  <thead>\n",
       "    <tr style=\"text-align: right;\">\n",
       "      <th></th>\n",
       "      <th>polarity_reviews</th>\n",
       "    </tr>\n",
       "  </thead>\n",
       "  <tbody>\n",
       "    <tr>\n",
       "      <th>0</th>\n",
       "      <td>5.1</td>\n",
       "    </tr>\n",
       "    <tr>\n",
       "      <th>1</th>\n",
       "      <td>6.7</td>\n",
       "    </tr>\n",
       "    <tr>\n",
       "      <th>2</th>\n",
       "      <td>6.1</td>\n",
       "    </tr>\n",
       "    <tr>\n",
       "      <th>3</th>\n",
       "      <td>6.3</td>\n",
       "    </tr>\n",
       "    <tr>\n",
       "      <th>4</th>\n",
       "      <td>3.1</td>\n",
       "    </tr>\n",
       "    <tr>\n",
       "      <th>...</th>\n",
       "      <td>...</td>\n",
       "    </tr>\n",
       "    <tr>\n",
       "      <th>13668731</th>\n",
       "      <td>1.7</td>\n",
       "    </tr>\n",
       "    <tr>\n",
       "      <th>13668732</th>\n",
       "      <td>-8.9</td>\n",
       "    </tr>\n",
       "    <tr>\n",
       "      <th>13668733</th>\n",
       "      <td>-4.8</td>\n",
       "    </tr>\n",
       "    <tr>\n",
       "      <th>13668734</th>\n",
       "      <td>7.6</td>\n",
       "    </tr>\n",
       "    <tr>\n",
       "      <th>13668735</th>\n",
       "      <td>1.9</td>\n",
       "    </tr>\n",
       "  </tbody>\n",
       "</table>\n",
       "<p>13668736 rows × 1 columns</p>\n",
       "</div>"
      ],
      "text/plain": [
       "          polarity_reviews\n",
       "0                      5.1\n",
       "1                      6.7\n",
       "2                      6.1\n",
       "3                      6.3\n",
       "4                      3.1\n",
       "...                    ...\n",
       "13668731               1.7\n",
       "13668732              -8.9\n",
       "13668733              -4.8\n",
       "13668734               7.6\n",
       "13668735               1.9\n",
       "\n",
       "[13668736 rows x 1 columns]"
      ]
     },
     "execution_count": 142,
     "metadata": {},
     "output_type": "execute_result"
    }
   ],
   "source": [
    "Y"
   ]
  },
  {
   "cell_type": "code",
   "execution_count": 143,
   "id": "fb5abfcb-6e89-41ff-98ef-8206d5706708",
   "metadata": {},
   "outputs": [
    {
     "data": {
      "text/plain": [
       "Index(['year', 'polarity_summary', 'length of review', 'category_Kindle',\n",
       "       'category_Movies', 'category_Sports', 'category_Tools', 'category_Toys',\n",
       "       'category_VideoGames', 'verified_False', 'overall_1', 'overall_2',\n",
       "       'overall_3', 'overall_5'],\n",
       "      dtype='object')"
      ]
     },
     "execution_count": 143,
     "metadata": {},
     "output_type": "execute_result"
    }
   ],
   "source": [
    "X_norm.columns"
   ]
  },
  {
   "cell_type": "code",
   "execution_count": 144,
   "id": "4c056b3e-dfec-41db-ab89-7f9d059ccd6c",
   "metadata": {},
   "outputs": [
    {
     "data": {
      "text/plain": [
       "(13668736, 14)"
      ]
     },
     "execution_count": 144,
     "metadata": {},
     "output_type": "execute_result"
    }
   ],
   "source": [
    "X_norm.shape"
   ]
  },
  {
   "cell_type": "code",
   "execution_count": 145,
   "id": "34439f83-6f6a-44e1-9666-99e5e48ccaa3",
   "metadata": {},
   "outputs": [
    {
     "data": {
      "text/plain": [
       "(13668736, 1)"
      ]
     },
     "execution_count": 145,
     "metadata": {},
     "output_type": "execute_result"
    }
   ],
   "source": [
    "Y.shape"
   ]
  },
  {
   "cell_type": "markdown",
   "id": "34725b8c-a108-4a94-9c21-0257581f63ee",
   "metadata": {},
   "source": [
    "## Using Train/Test splitting for the model"
   ]
  },
  {
   "cell_type": "code",
   "execution_count": 146,
   "id": "4fd4e754-89bc-4cd5-aad8-5b4c93210e76",
   "metadata": {},
   "outputs": [],
   "source": [
    "from sklearn.model_selection import train_test_split\n",
    "\n",
    "X_train, X_test, y_train, y_test = train_test_split(X_norm, Y, test_size=0.33, random_state=42)\n"
   ]
  },
  {
   "cell_type": "code",
   "execution_count": null,
   "id": "0ce19f74-2213-4b18-8f95-1f150a79fc66",
   "metadata": {},
   "outputs": [],
   "source": []
  },
  {
   "cell_type": "code",
   "execution_count": 147,
   "id": "22701748-23a2-4930-b9e3-938bf9b192d3",
   "metadata": {},
   "outputs": [
    {
     "data": {
      "text/html": [
       "<style>#sk-container-id-1 {color: black;}#sk-container-id-1 pre{padding: 0;}#sk-container-id-1 div.sk-toggleable {background-color: white;}#sk-container-id-1 label.sk-toggleable__label {cursor: pointer;display: block;width: 100%;margin-bottom: 0;padding: 0.3em;box-sizing: border-box;text-align: center;}#sk-container-id-1 label.sk-toggleable__label-arrow:before {content: \"▸\";float: left;margin-right: 0.25em;color: #696969;}#sk-container-id-1 label.sk-toggleable__label-arrow:hover:before {color: black;}#sk-container-id-1 div.sk-estimator:hover label.sk-toggleable__label-arrow:before {color: black;}#sk-container-id-1 div.sk-toggleable__content {max-height: 0;max-width: 0;overflow: hidden;text-align: left;background-color: #f0f8ff;}#sk-container-id-1 div.sk-toggleable__content pre {margin: 0.2em;color: black;border-radius: 0.25em;background-color: #f0f8ff;}#sk-container-id-1 input.sk-toggleable__control:checked~div.sk-toggleable__content {max-height: 200px;max-width: 100%;overflow: auto;}#sk-container-id-1 input.sk-toggleable__control:checked~label.sk-toggleable__label-arrow:before {content: \"▾\";}#sk-container-id-1 div.sk-estimator input.sk-toggleable__control:checked~label.sk-toggleable__label {background-color: #d4ebff;}#sk-container-id-1 div.sk-label input.sk-toggleable__control:checked~label.sk-toggleable__label {background-color: #d4ebff;}#sk-container-id-1 input.sk-hidden--visually {border: 0;clip: rect(1px 1px 1px 1px);clip: rect(1px, 1px, 1px, 1px);height: 1px;margin: -1px;overflow: hidden;padding: 0;position: absolute;width: 1px;}#sk-container-id-1 div.sk-estimator {font-family: monospace;background-color: #f0f8ff;border: 1px dotted black;border-radius: 0.25em;box-sizing: border-box;margin-bottom: 0.5em;}#sk-container-id-1 div.sk-estimator:hover {background-color: #d4ebff;}#sk-container-id-1 div.sk-parallel-item::after {content: \"\";width: 100%;border-bottom: 1px solid gray;flex-grow: 1;}#sk-container-id-1 div.sk-label:hover label.sk-toggleable__label {background-color: #d4ebff;}#sk-container-id-1 div.sk-serial::before {content: \"\";position: absolute;border-left: 1px solid gray;box-sizing: border-box;top: 0;bottom: 0;left: 50%;z-index: 0;}#sk-container-id-1 div.sk-serial {display: flex;flex-direction: column;align-items: center;background-color: white;padding-right: 0.2em;padding-left: 0.2em;position: relative;}#sk-container-id-1 div.sk-item {position: relative;z-index: 1;}#sk-container-id-1 div.sk-parallel {display: flex;align-items: stretch;justify-content: center;background-color: white;position: relative;}#sk-container-id-1 div.sk-item::before, #sk-container-id-1 div.sk-parallel-item::before {content: \"\";position: absolute;border-left: 1px solid gray;box-sizing: border-box;top: 0;bottom: 0;left: 50%;z-index: -1;}#sk-container-id-1 div.sk-parallel-item {display: flex;flex-direction: column;z-index: 1;position: relative;background-color: white;}#sk-container-id-1 div.sk-parallel-item:first-child::after {align-self: flex-end;width: 50%;}#sk-container-id-1 div.sk-parallel-item:last-child::after {align-self: flex-start;width: 50%;}#sk-container-id-1 div.sk-parallel-item:only-child::after {width: 0;}#sk-container-id-1 div.sk-dashed-wrapped {border: 1px dashed gray;margin: 0 0.4em 0.5em 0.4em;box-sizing: border-box;padding-bottom: 0.4em;background-color: white;}#sk-container-id-1 div.sk-label label {font-family: monospace;font-weight: bold;display: inline-block;line-height: 1.2em;}#sk-container-id-1 div.sk-label-container {text-align: center;}#sk-container-id-1 div.sk-container {/* jupyter's `normalize.less` sets `[hidden] { display: none; }` but bootstrap.min.css set `[hidden] { display: none !important; }` so we also need the `!important` here to be able to override the default hidden behavior on the sphinx rendered scikit-learn.org. See: https://github.com/scikit-learn/scikit-learn/issues/21755 */display: inline-block !important;position: relative;}#sk-container-id-1 div.sk-text-repr-fallback {display: none;}</style><div id=\"sk-container-id-1\" class=\"sk-top-container\"><div class=\"sk-text-repr-fallback\"><pre>LinearRegression()</pre><b>In a Jupyter environment, please rerun this cell to show the HTML representation or trust the notebook. <br />On GitHub, the HTML representation is unable to render, please try loading this page with nbviewer.org.</b></div><div class=\"sk-container\" hidden><div class=\"sk-item\"><div class=\"sk-estimator sk-toggleable\"><input class=\"sk-toggleable__control sk-hidden--visually\" id=\"sk-estimator-id-1\" type=\"checkbox\" checked><label for=\"sk-estimator-id-1\" class=\"sk-toggleable__label sk-toggleable__label-arrow\">LinearRegression</label><div class=\"sk-toggleable__content\"><pre>LinearRegression()</pre></div></div></div></div></div>"
      ],
      "text/plain": [
       "LinearRegression()"
      ]
     },
     "execution_count": 147,
     "metadata": {},
     "output_type": "execute_result"
    }
   ],
   "source": [
    "ohe_model = lm.LinearRegression(fit_intercept=True) #Tell sklearn to not add an additional bias column. Why?\n",
    "ohe_model.fit(X_train, y_train)"
   ]
  },
  {
   "cell_type": "code",
   "execution_count": 148,
   "id": "7d574b0e-df3a-4240-835c-52aa7152f6a6",
   "metadata": {},
   "outputs": [
    {
     "name": "stdout",
     "output_type": "stream",
     "text": [
      "Resulting RMSE: 7.306375446919241\n"
     ]
    }
   ],
   "source": [
    "print(f\"Resulting RMSE: {np.sqrt(np.mean((y_test - ohe_model.predict(X_test)) ** 2))}\")"
   ]
  },
  {
   "cell_type": "code",
   "execution_count": 149,
   "id": "98947d76-dc57-4846-9a81-0220ba8df130",
   "metadata": {},
   "outputs": [
    {
     "data": {
      "text/plain": [
       "Text(0, 0.5, 'error')"
      ]
     },
     "execution_count": 149,
     "metadata": {},
     "output_type": "execute_result"
    },
    {
     "data": {
      "image/png": "[encoded data removed]",
      "text/plain": [
       "<Figure size 640x480 with 1 Axes>"
      ]
     },
     "metadata": {},
     "output_type": "display_data"
    }
   ],
   "source": [
    "X = X_test\n",
    "y = y_test\n",
    "\n",
    "#model =  lm.LinearRegression().fit(X, y) \n",
    "\n",
    "prediction = ohe_model.predict(X)\n",
    "error = y - prediction\n",
    "\n",
    "fig = plt.scatter(x=prediction, y=error, alpha = 0.6)\n",
    "plt.xlim(3.5,20)\n",
    "plt.ylim(-400, 500)\n",
    "plt.axhline(y=0, color='r', linestyle='-')\n",
    "plt.title(\"Residuals Final Model Polarity Reviews Score\")\n",
    "plt.xlabel(\"prediction\")\n",
    "plt.ylabel(\"error\")"
   ]
  },
  {
   "cell_type": "code",
   "execution_count": 150,
   "id": "fcdcf4b1-1760-45f5-a965-8d27cc2ab56f",
   "metadata": {},
   "outputs": [
    {
     "name": "stdout",
     "output_type": "stream",
     "text": [
      "     SD(errors): polarity_reviews    7.306375\n",
      "dtype: float64\n",
      "SD(polarity_reviews): 9.319730244918459\n",
      "size of error decreased by polarity_reviews    21.603147\n",
      "dtype: float64 %\n",
      "                  mse (model): 53.38312217134434                       rmse (model): 7.306375446919241 \n",
      "mse (avg polarity of dataset): 99.51246401726274       rmse (avg polarity of dataset): 9.975593416797958 \n",
      "rmse reduced by 26.7574855785923%\n"
     ]
    }
   ],
   "source": [
    "decrease = (1 - np.std(error)/np.std(merged_df['polarity_reviews']))*100\n",
    "\n",
    "print(f\"     SD(errors): {np.std(error)}\")\n",
    "print(f\"SD(polarity_reviews): {np.std(merged_df['polarity_reviews'])}\")\n",
    "print(f\"size of error decreased by {decrease:} %\")\n",
    "\n",
    "# plt.scatter(x=prediction, y=error)\n",
    "# plt.axhline(y=0, color='red')\n",
    "# plt.xlabel(\"prediction\")\n",
    "# plt.ylabel(\"error\")\n",
    "# plt.title(\"Residual plot\")\n",
    "\n",
    "mse_model = np.mean(error**2)\n",
    "mse_avg = np.mean((df7[\"polarity_reviews\"].mean() - y)**2)\n",
    "rmse_model = np.sqrt(mse_model)\n",
    "rmse_avg = np.sqrt(mse_avg)\n",
    "\n",
    "print(f\"                  mse (model): {mse_model}                       rmse (model): {rmse_model} \")\n",
    "print(f\"mse (avg polarity of dataset): {mse_avg}       rmse (avg polarity of dataset): {rmse_avg} \")\n",
    "percent_increase = ((1-(rmse_model)/rmse_avg))\n",
    "print(f\"rmse reduced by {percent_increase*100}%\")"
   ]
  },
  {
   "cell_type": "code",
   "execution_count": null,
   "id": "2f167e20-ed50-4b66-bc07-8f00c2be0f1a",
   "metadata": {},
   "outputs": [],
   "source": []
  },
  {
   "cell_type": "code",
   "execution_count": null,
   "id": "35bd6b37-1f3b-41d8-aca6-2024be30fd20",
   "metadata": {},
   "outputs": [],
   "source": []
  },
  {
   "cell_type": "code",
   "execution_count": null,
   "id": "be8b3ade-3d45-412f-b2f6-d39893ce4ecc",
   "metadata": {},
   "outputs": [],
   "source": []
  },
  {
   "cell_type": "code",
   "execution_count": null,
   "id": "1dad947c-8c51-4ecb-82da-5e89914e8a79",
   "metadata": {},
   "outputs": [],
   "source": []
  },
  {
   "cell_type": "markdown",
   "id": "eea2f9f1-c546-45b2-8ca1-5bc11315bd2f",
   "metadata": {},
   "source": [
    "## Regularization"
   ]
  },
  {
   "cell_type": "markdown",
   "id": "287064fe-26d8-4d19-bf30-7e109e56bed4",
   "metadata": {},
   "source": [
    "Using Lasso we don't have to drop columns for features that are One-Hot-Encoded (ohe) to guarantee that the matrix is nonsingular (that is, it has a determinant different from zero and it is therefore invertible). In fact, when using regularization we have always a nonsingular matrix even keeping all the ohe columns for each categorical feature to have them linearly independent. Moreover, when we alter the structure of the matrix we also change the model's parameters and therefore its preedictions. Dropping different columns for each categorical feature generates new set of parameters for the Lasso model. Our goal using regularization is to determine the best model but dropping different columns can lead to non-trivial different results. It is better to keep the matrix with all the columns for all the categorical features, and apply the Lasso model on it."
   ]
  },
  {
   "cell_type": "code",
   "execution_count": 151,
   "id": "9f23f51c-d4ee-4415-ab6c-4b507dc5aebd",
   "metadata": {},
   "outputs": [
    {
     "data": {
      "text/plain": [
       "Index(['year', 'polarity_summary', 'length of review', 'category_Kindle',\n",
       "       'category_Lawn', 'category_Movies', 'category_Sports', 'category_Tools',\n",
       "       'category_Toys', 'category_VideoGames', 'verified_False',\n",
       "       'verified_True', 'overall_1', 'overall_2', 'overall_3', 'overall_4',\n",
       "       'overall_5'],\n",
       "      dtype='object')"
      ]
     },
     "execution_count": 151,
     "metadata": {},
     "output_type": "execute_result"
    }
   ],
   "source": [
    "merged_df_fit = merged_df[['year', 'overall', 'verified', 'polarity_summary', 'length of review', 'category', 'polarity_reviews']]\n",
    "merged_df_fit = merged_df_fit.dropna()\n",
    "X = merged_df_fit[['year', 'overall', 'verified', 'polarity_summary', 'length of review', 'category']]\n",
    "Y = merged_df_fit['polarity_reviews']\n",
    "X_ohe = one_hot_encode(X)\n",
    "X_ohe.columns"
   ]
  },
  {
   "cell_type": "code",
   "execution_count": 152,
   "id": "ce58c01d-f880-4448-91f5-f75aacb9396a",
   "metadata": {},
   "outputs": [],
   "source": [
    "from sklearn.model_selection import train_test_split\n",
    "\n",
    "X_train, X_test, y_train, y_test = train_test_split(X_ohe, Y, test_size=0.33, random_state=42)"
   ]
  },
  {
   "cell_type": "code",
   "execution_count": null,
   "id": "a08145fc-0163-4c7f-a775-0cb0a443b209",
   "metadata": {},
   "outputs": [],
   "source": []
  },
  {
   "cell_type": "code",
   "execution_count": null,
   "id": "8c65def2-789e-4328-bd42-71688272a550",
   "metadata": {},
   "outputs": [],
   "source": []
  },
  {
   "cell_type": "code",
   "execution_count": null,
   "id": "309f613c-ff2a-48d8-a95d-9153805df5fe",
   "metadata": {},
   "outputs": [],
   "source": []
  },
  {
   "cell_type": "code",
   "execution_count": 153,
   "id": "697433b0-b2ee-4c5e-9b52-cbc13ac838ba",
   "metadata": {},
   "outputs": [],
   "source": [
    "from sklearn.preprocessing import StandardScaler\n",
    "\n",
    "scalerX = StandardScaler().fit(X_train) \n",
    "X_train_scaled = scalerX.transform(X_train)\n",
    "X_test_scaled = scalerX.transform(X_test)"
   ]
  },
  {
   "cell_type": "markdown",
   "id": "c2fa5a98-8a0e-4fed-814d-878a62060cac",
   "metadata": {},
   "source": [
    "We confirm that the means of the features in the train set are all 0 and the SDs are all 1."
   ]
  },
  {
   "cell_type": "code",
   "execution_count": 154,
   "id": "fb234dba-c004-49cc-a7f1-d6e884adc858",
   "metadata": {},
   "outputs": [
    {
     "data": {
      "text/plain": [
       "True"
      ]
     },
     "execution_count": 154,
     "metadata": {},
     "output_type": "execute_result"
    }
   ],
   "source": [
    "np.allclose(X_train_scaled.mean(axis=0), 0)"
   ]
  },
  {
   "cell_type": "code",
   "execution_count": 155,
   "id": "ace617dd-bb28-4fb7-b452-868355d0de90",
   "metadata": {},
   "outputs": [
    {
     "data": {
      "text/plain": [
       "True"
      ]
     },
     "execution_count": 155,
     "metadata": {},
     "output_type": "execute_result"
    }
   ],
   "source": [
    "np.allclose(X_train_scaled.std(axis=0), 1)"
   ]
  },
  {
   "cell_type": "markdown",
   "id": "56cb0756-2f0f-4414-a018-4984dda19af0",
   "metadata": {},
   "source": [
    "To perform a lasso regression, we use the Lasso method in scikit-learn. We want to see how the coefficients for the features in the data frame change with alpha,  setting up a range of values for the regularization parameter and fit the lasso for each:"
   ]
  },
  {
   "cell_type": "code",
   "execution_count": 156,
   "id": "3dad7790-943a-4247-946a-7b2c34cf6d67",
   "metadata": {},
   "outputs": [],
   "source": [
    "from sklearn.linear_model import Lasso\n",
    "from sklearn.metrics import mean_squared_error\n",
    "\n",
    "coefs = []\n",
    "mses = []\n",
    "alphas = np.arange(0.01, 8, 0.01)\n",
    "\n",
    "for a in alphas:\n",
    "    model = Lasso(alpha=a)\n",
    "    model.fit(X_train_scaled, y_train)\n",
    "    coefs.append(model.coef_)\n",
    "    mses.append(mean_squared_error(y_test, model.predict(X_test_scaled)))"
   ]
  },
  {
   "cell_type": "markdown",
   "id": "be355054-74ee-4470-8a60-070331a0c446",
   "metadata": {},
   "source": [
    "We can also plot the MSE as a function of alpha to see how it changes with the increase in the penalty:"
   ]
  },
  {
   "cell_type": "code",
   "execution_count": 157,
   "id": "1bebe5e4-6f98-469e-9202-8bba10337594",
   "metadata": {},
   "outputs": [
    {
     "data": {
      "text/plain": [
       "[<matplotlib.lines.Line2D at 0x7fafa122b700>]"
      ]
     },
     "execution_count": 157,
     "metadata": {},
     "output_type": "execute_result"
    },
    {
     "data": {
      "image/png": "[encoded data removed]",
      "text/plain": [
       "<Figure size 640x480 with 1 Axes>"
      ]
     },
     "metadata": {},
     "output_type": "display_data"
    }
   ],
   "source": [
    "plt.plot(alphas, mses)"
   ]
  },
  {
   "cell_type": "markdown",
   "id": "a117c100-634f-4d81-9782-fe606ddb8e3e",
   "metadata": {},
   "source": [
    "When reaches ~5, the penalty is so great that the lasso regression is fitting a constant model to the data, and that is why the MSE doesn’t change after this value of the hyper-parameter. How to choose alpha? We use cross-validation (CV):"
   ]
  },
  {
   "cell_type": "code",
   "execution_count": 158,
   "id": "526a6710-bde1-42fc-a7f8-82add75630bc",
   "metadata": {},
   "outputs": [],
   "source": [
    "from sklearn.linear_model import LassoCV\n",
    "\n",
    "lasso_cv_model = LassoCV(\n",
    "    alphas=np.arange(0.01, 1, 0.01), cv=5, max_iter=100000\n",
    ")"
   ]
  },
  {
   "cell_type": "markdown",
   "id": "21357189-43a5-4c2e-a4a6-a7a44f3bf5ad",
   "metadata": {},
   "source": [
    "We use the LassoCV method to perform 5-fold cross-validation to choose alpha:"
   ]
  },
  {
   "cell_type": "code",
   "execution_count": 159,
   "id": "1da87ccc-9056-41d5-a84b-b330918685b8",
   "metadata": {},
   "outputs": [],
   "source": [
    "lasso_best = lasso_cv_model.fit(X_train_scaled, y_train)"
   ]
  },
  {
   "cell_type": "markdown",
   "id": "b1a48a10-5121-4637-b270-ed8ed26ecd1c",
   "metadata": {},
   "source": [
    "Cross-validation has chosen the following regularization parameter:"
   ]
  },
  {
   "cell_type": "code",
   "execution_count": 160,
   "id": "3c141a93-d6c4-4134-bba5-5029edc2651d",
   "metadata": {},
   "outputs": [
    {
     "data": {
      "text/plain": [
       "0.01"
      ]
     },
     "execution_count": 160,
     "metadata": {},
     "output_type": "execute_result"
    }
   ],
   "source": [
    "lasso_best.alpha_"
   ]
  },
  {
   "cell_type": "markdown",
   "id": "9339813f-39b1-4e8f-9128-38ccc16c559d",
   "metadata": {},
   "source": [
    "Compute the MSE for predictions in the test set using this cross-validated model:"
   ]
  },
  {
   "cell_type": "code",
   "execution_count": 161,
   "id": "a16b1e92-5561-41d7-9bee-5ada1100da77",
   "metadata": {},
   "outputs": [
    {
     "data": {
      "text/plain": [
       "54.974409328616005"
      ]
     },
     "execution_count": 161,
     "metadata": {},
     "output_type": "execute_result"
    }
   ],
   "source": [
    "y_test_pred = lasso_best.predict(X_test_scaled)\n",
    "mean_squared_error(y_test, y_test_pred)"
   ]
  },
  {
   "cell_type": "markdown",
   "id": "814ddbbb-de82-4bdc-95e8-354140515249",
   "metadata": {},
   "source": [
    "How many coefficients are not 0?"
   ]
  },
  {
   "cell_type": "code",
   "execution_count": 162,
   "id": "2de23b45-6d39-47c7-81b5-9c1982724598",
   "metadata": {},
   "outputs": [
    {
     "data": {
      "text/plain": [
       "14"
      ]
     },
     "execution_count": 162,
     "metadata": {},
     "output_type": "execute_result"
    }
   ],
   "source": [
    "sum(np.abs(lasso_best.coef_) > 0)"
   ]
  },
  {
   "cell_type": "code",
   "execution_count": 163,
   "id": "57167d43-f44c-47cc-bdbf-e15dc9fe1566",
   "metadata": {},
   "outputs": [
    {
     "name": "stdout",
     "output_type": "stream",
     "text": [
      "Test score: 0.378336996423693\n"
     ]
    }
   ],
   "source": [
    "print(f'Test score: {lasso_best.score(X_test_scaled, y_test)}')"
   ]
  },
  {
   "cell_type": "code",
   "execution_count": 164,
   "id": "3bdec957-6335-4ac9-bbd4-fb360d7cdb06",
   "metadata": {},
   "outputs": [
    {
     "name": "stdout",
     "output_type": "stream",
     "text": [
      "Training score: 0.3803926978897263\n"
     ]
    }
   ],
   "source": [
    "print(f'Training score: {lasso_best.score(X_train_scaled, y_train)}')"
   ]
  },
  {
   "cell_type": "code",
   "execution_count": null,
   "id": "240ffabb-827e-43fe-a91c-2b443b3180cd",
   "metadata": {},
   "outputs": [],
   "source": []
  },
  {
   "cell_type": "code",
   "execution_count": null,
   "id": "696f0ad1-dd57-4bf9-b6a0-ee0b13af1238",
   "metadata": {},
   "outputs": [],
   "source": []
  },
  {
   "cell_type": "markdown",
   "id": "74c28f43-2248-49a5-b993-7d52ba657f88",
   "metadata": {},
   "source": [
    "## VADER score "
   ]
  },
  {
   "cell_type": "markdown",
   "id": "797edab1-6fc3-43ec-8fc1-29a7d54f1010",
   "metadata": {},
   "source": [
    "1) Hutto, Clayton, and Eric Gilbert. \"Vader: A parsimonious rule-based model for sentiment analysis of social media text.\" Proceedings of the international AAAI conference on web and social media. Vol. 8. No. 1. 2014.\n",
    "\n",
    "2) Bonta, Venkateswarlu, Nandhini Kumaresh, and N. Janardhan. \"A comprehensive study on lexicon based approaches for sentiment analysis.\" Asian Journal of Computer Science and Technology 8.S2 (2019): 1-6.\n",
    "\n",
    "3) Borg, Anton, and Martin Boldt. \"Using VADER sentiment and SVM for predicting customer response sentiment.\" Expert Systems with Applications 162 (2020): 113746.\n",
    "\n",
    "4)  Ulf Norinder & Petra Norinder (2022) Predicting Amazon customer reviews with deep confidence using deep learning and conformal prediction, Journal of Management Analytics, 9:1, 1-16, DOI: 10.1080/23270012.2022.2031324 "
   ]
  },
  {
   "cell_type": "markdown",
   "id": "54f92214-5d78-45af-96fe-3e6cac026cd2",
   "metadata": {},
   "source": [
    "The third and fourth articles are the most important ones, it is literally what we did."
   ]
  },
  {
   "cell_type": "code",
   "execution_count": null,
   "id": "354e41a8-609b-4b62-b8d0-219762fbb97f",
   "metadata": {},
   "outputs": [],
   "source": []
  }
 ],
 "metadata": {
  "kernelspec": {
   "display_name": "Python 3 (ipykernel)",
   "language": "python",
   "name": "python3"
  },
  "language_info": {
   "codemirror_mode": {
    "name": "ipython",
    "version": 3
   },
   "file_extension": ".py",
   "mimetype": "text/x-python",
   "name": "python",
   "nbconvert_exporter": "python",
   "pygments_lexer": "ipython3",
   "version": "3.10.12"
  }
 },
 "nbformat": 4,
 "nbformat_minor": 5
}
